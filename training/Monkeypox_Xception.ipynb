{
 "cells": [
  {
   "cell_type": "code",
   "execution_count": 1,
   "id": "f95f0e6a",
   "metadata": {},
   "outputs": [],
   "source": [
    "import matplotlib.pyplot as plt\n",
    "import tensorflow as tf\n",
    "import numpy as np\n",
    "import os\n",
    "import pandas as pd\n",
    "from tensorflow.keras.preprocessing.image import ImageDataGenerator\n",
    "from tensorflow.keras.optimizers import Adam, RMSprop\n",
    "from tensorflow.keras.models import Model, Sequential\n",
    "from tensorflow.keras.layers import Dense, Flatten, Dropout\n",
    "from tensorflow.keras.applications.xception import Xception\n",
    "from keras import metrics"
   ]
  },
  {
   "cell_type": "code",
   "execution_count": 2,
   "id": "865f0638",
   "metadata": {},
   "outputs": [
    {
     "name": "stdout",
     "output_type": "stream",
     "text": [
      "WARNING:tensorflow:Mixed precision compatibility check (mixed_float16): WARNING\n",
      "The dtype policy mixed_float16 may run slowly because this machine does not have a GPU. Only Nvidia GPUs with compute capability of at least 7.0 run quickly with mixed_float16.\n",
      "If you will use compatible GPU(s) not attached to this host, e.g. by running a multi-worker model, you can ignore this warning. This message will only be logged once\n"
     ]
    }
   ],
   "source": [
    "# from tensorflow.keras.mixed_precision import experimental as mixed_precision\n",
    "from tensorflow.python.keras.mixed_precision.policy import set_global_policy\n",
    "set_global_policy('mixed_float16')\n",
    "# set_global_policy(policy)\n",
    "# print('Compute dtype: %s' % policy.compute_dtype)\n",
    "# print('Variable dtype: %s' % policy.variable_dtype)"
   ]
  },
  {
   "cell_type": "code",
   "execution_count": 3,
   "id": "45a10cda",
   "metadata": {},
   "outputs": [],
   "source": [
    "train_dir = \"D:/School/Sadia/Final V2/dataset/train\"\n",
    "test_dir = \"D:/School/Sadia/Final V2/dataset/test\""
   ]
  },
  {
   "cell_type": "code",
   "execution_count": 4,
   "id": "64f9cd02",
   "metadata": {},
   "outputs": [
    {
     "name": "stdout",
     "output_type": "stream",
     "text": [
      "Downloading data from https://storage.googleapis.com/tensorflow/keras-applications/xception/xception_weights_tf_dim_ordering_tf_kernels_notop.h5\n",
      "83683744/83683744 [==============================] - 36s 0us/step\n"
     ]
    }
   ],
   "source": [
    "model1 = Xception(include_top=False,input_shape=(224, 224, 3), weights='imagenet')"
   ]
  },
  {
   "cell_type": "code",
   "execution_count": 5,
   "id": "b9dd9867",
   "metadata": {},
   "outputs": [],
   "source": [
    "input_shape = (224,224)"
   ]
  },
  {
   "cell_type": "code",
   "execution_count": 6,
   "id": "c31fe927",
   "metadata": {},
   "outputs": [
    {
     "name": "stdout",
     "output_type": "stream",
     "text": [
      "Found 2310 images belonging to 3 classes.\n"
     ]
    },
    {
     "name": "stdout",
     "output_type": "stream",
     "text": [
      "Found 770 images belonging to 3 classes.\n"
     ]
    }
   ],
   "source": [
    "datagen_train = ImageDataGenerator(rescale=1./255,\n",
    "                                  width_shift_range=0.1,\n",
    "                                  height_shift_range=0.1,\n",
    "                                  horizontal_flip=False,\n",
    "                                  vertical_flip=True)\n",
    "\n",
    "\n",
    "datagen_test = ImageDataGenerator(rescale=1./255)\n",
    "\n",
    "\n",
    "batch_size = 32\n",
    "generator_train = datagen_train.flow_from_directory(directory=train_dir,\n",
    "                                                    target_size=input_shape,\n",
    "                                                    batch_size=batch_size,\n",
    "                                                    shuffle=True)\n",
    "\n",
    "generator_test = datagen_test.flow_from_directory(directory=test_dir,\n",
    "                                                  target_size=input_shape,\n",
    "                                                  batch_size=batch_size,\n",
    "                                                  shuffle=False)\n"
   ]
  },
  {
   "cell_type": "code",
   "execution_count": 7,
   "id": "8c4917b9",
   "metadata": {},
   "outputs": [
    {
     "name": "stdout",
     "output_type": "stream",
     "text": [
      "True:\tinput_1\n",
      "True:\tblock1_conv1\n",
      "True:\tblock1_conv1_bn\n",
      "True:\tblock1_conv1_act\n",
      "True:\tblock1_conv2\n",
      "True:\tblock1_conv2_bn\n",
      "True:\tblock1_conv2_act\n",
      "True:\tblock2_sepconv1\n",
      "True:\tblock2_sepconv1_bn\n",
      "True:\tblock2_sepconv2_act\n",
      "True:\tblock2_sepconv2\n",
      "True:\tblock2_sepconv2_bn\n",
      "True:\tconv2d\n",
      "True:\tblock2_pool\n",
      "True:\tbatch_normalization\n",
      "True:\tadd\n",
      "True:\tblock3_sepconv1_act\n",
      "True:\tblock3_sepconv1\n",
      "True:\tblock3_sepconv1_bn\n",
      "True:\tblock3_sepconv2_act\n",
      "True:\tblock3_sepconv2\n",
      "True:\tblock3_sepconv2_bn\n",
      "True:\tconv2d_1\n",
      "True:\tblock3_pool\n",
      "True:\tbatch_normalization_1\n",
      "True:\tadd_1\n",
      "True:\tblock4_sepconv1_act\n",
      "True:\tblock4_sepconv1\n",
      "True:\tblock4_sepconv1_bn\n",
      "True:\tblock4_sepconv2_act\n",
      "True:\tblock4_sepconv2\n",
      "True:\tblock4_sepconv2_bn\n",
      "True:\tconv2d_2\n",
      "True:\tblock4_pool\n",
      "True:\tbatch_normalization_2\n",
      "True:\tadd_2\n",
      "True:\tblock5_sepconv1_act\n",
      "True:\tblock5_sepconv1\n",
      "True:\tblock5_sepconv1_bn\n",
      "True:\tblock5_sepconv2_act\n",
      "True:\tblock5_sepconv2\n",
      "True:\tblock5_sepconv2_bn\n",
      "True:\tblock5_sepconv3_act\n",
      "True:\tblock5_sepconv3\n",
      "True:\tblock5_sepconv3_bn\n",
      "True:\tadd_3\n",
      "True:\tblock6_sepconv1_act\n",
      "True:\tblock6_sepconv1\n",
      "True:\tblock6_sepconv1_bn\n",
      "True:\tblock6_sepconv2_act\n",
      "True:\tblock6_sepconv2\n",
      "True:\tblock6_sepconv2_bn\n",
      "True:\tblock6_sepconv3_act\n",
      "True:\tblock6_sepconv3\n",
      "True:\tblock6_sepconv3_bn\n",
      "True:\tadd_4\n",
      "True:\tblock7_sepconv1_act\n",
      "True:\tblock7_sepconv1\n",
      "True:\tblock7_sepconv1_bn\n",
      "True:\tblock7_sepconv2_act\n",
      "True:\tblock7_sepconv2\n",
      "True:\tblock7_sepconv2_bn\n",
      "True:\tblock7_sepconv3_act\n",
      "True:\tblock7_sepconv3\n",
      "True:\tblock7_sepconv3_bn\n",
      "True:\tadd_5\n",
      "True:\tblock8_sepconv1_act\n",
      "True:\tblock8_sepconv1\n",
      "True:\tblock8_sepconv1_bn\n",
      "True:\tblock8_sepconv2_act\n",
      "True:\tblock8_sepconv2\n",
      "True:\tblock8_sepconv2_bn\n",
      "True:\tblock8_sepconv3_act\n",
      "True:\tblock8_sepconv3\n",
      "True:\tblock8_sepconv3_bn\n",
      "True:\tadd_6\n",
      "True:\tblock9_sepconv1_act\n",
      "True:\tblock9_sepconv1\n",
      "True:\tblock9_sepconv1_bn\n",
      "True:\tblock9_sepconv2_act\n",
      "True:\tblock9_sepconv2\n",
      "True:\tblock9_sepconv2_bn\n",
      "True:\tblock9_sepconv3_act\n",
      "True:\tblock9_sepconv3\n",
      "True:\tblock9_sepconv3_bn\n",
      "True:\tadd_7\n",
      "True:\tblock10_sepconv1_act\n",
      "True:\tblock10_sepconv1\n",
      "True:\tblock10_sepconv1_bn\n",
      "True:\tblock10_sepconv2_act\n",
      "True:\tblock10_sepconv2\n",
      "True:\tblock10_sepconv2_bn\n",
      "True:\tblock10_sepconv3_act\n",
      "True:\tblock10_sepconv3\n",
      "True:\tblock10_sepconv3_bn\n",
      "True:\tadd_8\n",
      "True:\tblock11_sepconv1_act\n",
      "True:\tblock11_sepconv1\n",
      "True:\tblock11_sepconv1_bn\n",
      "True:\tblock11_sepconv2_act\n",
      "True:\tblock11_sepconv2\n",
      "True:\tblock11_sepconv2_bn\n",
      "True:\tblock11_sepconv3_act\n",
      "True:\tblock11_sepconv3\n",
      "True:\tblock11_sepconv3_bn\n",
      "True:\tadd_9\n",
      "True:\tblock12_sepconv1_act\n",
      "True:\tblock12_sepconv1\n",
      "True:\tblock12_sepconv1_bn\n",
      "True:\tblock12_sepconv2_act\n",
      "True:\tblock12_sepconv2\n",
      "True:\tblock12_sepconv2_bn\n",
      "True:\tblock12_sepconv3_act\n",
      "True:\tblock12_sepconv3\n",
      "True:\tblock12_sepconv3_bn\n",
      "True:\tadd_10\n",
      "True:\tblock13_sepconv1_act\n",
      "True:\tblock13_sepconv1\n",
      "True:\tblock13_sepconv1_bn\n",
      "True:\tblock13_sepconv2_act\n",
      "True:\tblock13_sepconv2\n",
      "True:\tblock13_sepconv2_bn\n",
      "True:\tconv2d_3\n",
      "True:\tblock13_pool\n",
      "True:\tbatch_normalization_3\n",
      "True:\tadd_11\n",
      "True:\tblock14_sepconv1\n",
      "True:\tblock14_sepconv1_bn\n",
      "True:\tblock14_sepconv1_act\n",
      "True:\tblock14_sepconv2\n",
      "True:\tblock14_sepconv2_bn\n",
      "True:\tblock14_sepconv2_act\n"
     ]
    }
   ],
   "source": [
    "def print_layer_trainable():\n",
    "    for layer in model1.layers:\n",
    "        print(\"{0}:\\t{1}\".format(layer.trainable, layer.name))\n",
    "\n",
    "\n",
    "print_layer_trainable()"
   ]
  },
  {
   "cell_type": "code",
   "execution_count": 9,
   "id": "aca8db11",
   "metadata": {},
   "outputs": [],
   "source": [
    "transfer_layer = model1.get_layer('block14_sepconv2_act')\n",
    "conv_model = Model(inputs=model1.input, outputs=transfer_layer.output)"
   ]
  },
  {
   "cell_type": "code",
   "execution_count": null,
   "id": "45beca0d",
   "metadata": {},
   "outputs": [
    {
     "name": "stdout",
     "output_type": "stream",
     "text": [
      "True:\tinput_1\n",
      "True:\tconv1_pad\n",
      "True:\tconv1_conv\n",
      "True:\tconv1_bn\n",
      "True:\tconv1_relu\n",
      "True:\tpool1_pad\n",
      "True:\tpool1_pool\n",
      "True:\tconv2_block1_1_conv\n",
      "True:\tconv2_block1_1_bn\n",
      "True:\tconv2_block1_1_relu\n",
      "True:\tconv2_block1_2_conv\n",
      "True:\tconv2_block1_2_bn\n",
      "True:\tconv2_block1_2_relu\n",
      "True:\tconv2_block1_0_conv\n",
      "True:\tconv2_block1_3_conv\n",
      "True:\tconv2_block1_0_bn\n",
      "True:\tconv2_block1_3_bn\n",
      "True:\tconv2_block1_add\n",
      "True:\tconv2_block1_out\n",
      "True:\tconv2_block2_1_conv\n",
      "True:\tconv2_block2_1_bn\n",
      "True:\tconv2_block2_1_relu\n",
      "True:\tconv2_block2_2_conv\n",
      "True:\tconv2_block2_2_bn\n",
      "True:\tconv2_block2_2_relu\n",
      "True:\tconv2_block2_3_conv\n",
      "True:\tconv2_block2_3_bn\n",
      "True:\tconv2_block2_add\n",
      "True:\tconv2_block2_out\n",
      "True:\tconv2_block3_1_conv\n",
      "True:\tconv2_block3_1_bn\n",
      "True:\tconv2_block3_1_relu\n",
      "True:\tconv2_block3_2_conv\n",
      "True:\tconv2_block3_2_bn\n",
      "True:\tconv2_block3_2_relu\n",
      "True:\tconv2_block3_3_conv\n",
      "True:\tconv2_block3_3_bn\n",
      "True:\tconv2_block3_add\n",
      "True:\tconv2_block3_out\n",
      "True:\tconv3_block1_1_conv\n",
      "True:\tconv3_block1_1_bn\n",
      "True:\tconv3_block1_1_relu\n",
      "True:\tconv3_block1_2_conv\n",
      "True:\tconv3_block1_2_bn\n",
      "True:\tconv3_block1_2_relu\n",
      "True:\tconv3_block1_0_conv\n",
      "True:\tconv3_block1_3_conv\n",
      "True:\tconv3_block1_0_bn\n",
      "True:\tconv3_block1_3_bn\n",
      "True:\tconv3_block1_add\n",
      "True:\tconv3_block1_out\n",
      "True:\tconv3_block2_1_conv\n",
      "True:\tconv3_block2_1_bn\n",
      "True:\tconv3_block2_1_relu\n",
      "True:\tconv3_block2_2_conv\n",
      "True:\tconv3_block2_2_bn\n",
      "True:\tconv3_block2_2_relu\n",
      "True:\tconv3_block2_3_conv\n",
      "True:\tconv3_block2_3_bn\n",
      "True:\tconv3_block2_add\n",
      "True:\tconv3_block2_out\n",
      "True:\tconv3_block3_1_conv\n",
      "True:\tconv3_block3_1_bn\n",
      "True:\tconv3_block3_1_relu\n",
      "True:\tconv3_block3_2_conv\n",
      "True:\tconv3_block3_2_bn\n",
      "True:\tconv3_block3_2_relu\n",
      "True:\tconv3_block3_3_conv\n",
      "True:\tconv3_block3_3_bn\n",
      "True:\tconv3_block3_add\n",
      "True:\tconv3_block3_out\n",
      "True:\tconv3_block4_1_conv\n",
      "True:\tconv3_block4_1_bn\n",
      "True:\tconv3_block4_1_relu\n",
      "True:\tconv3_block4_2_conv\n",
      "True:\tconv3_block4_2_bn\n",
      "True:\tconv3_block4_2_relu\n",
      "True:\tconv3_block4_3_conv\n",
      "True:\tconv3_block4_3_bn\n",
      "True:\tconv3_block4_add\n",
      "True:\tconv3_block4_out\n",
      "True:\tconv4_block1_1_conv\n",
      "True:\tconv4_block1_1_bn\n",
      "True:\tconv4_block1_1_relu\n",
      "True:\tconv4_block1_2_conv\n",
      "True:\tconv4_block1_2_bn\n",
      "True:\tconv4_block1_2_relu\n",
      "True:\tconv4_block1_0_conv\n",
      "True:\tconv4_block1_3_conv\n",
      "True:\tconv4_block1_0_bn\n",
      "True:\tconv4_block1_3_bn\n",
      "True:\tconv4_block1_add\n",
      "True:\tconv4_block1_out\n",
      "True:\tconv4_block2_1_conv\n",
      "True:\tconv4_block2_1_bn\n",
      "True:\tconv4_block2_1_relu\n",
      "True:\tconv4_block2_2_conv\n",
      "True:\tconv4_block2_2_bn\n",
      "True:\tconv4_block2_2_relu\n",
      "True:\tconv4_block2_3_conv\n",
      "True:\tconv4_block2_3_bn\n",
      "True:\tconv4_block2_add\n",
      "True:\tconv4_block2_out\n",
      "True:\tconv4_block3_1_conv\n",
      "True:\tconv4_block3_1_bn\n",
      "True:\tconv4_block3_1_relu\n",
      "True:\tconv4_block3_2_conv\n",
      "True:\tconv4_block3_2_bn\n",
      "True:\tconv4_block3_2_relu\n",
      "True:\tconv4_block3_3_conv\n",
      "True:\tconv4_block3_3_bn\n",
      "True:\tconv4_block3_add\n",
      "True:\tconv4_block3_out\n",
      "True:\tconv4_block4_1_conv\n",
      "True:\tconv4_block4_1_bn\n",
      "True:\tconv4_block4_1_relu\n",
      "True:\tconv4_block4_2_conv\n",
      "True:\tconv4_block4_2_bn\n",
      "True:\tconv4_block4_2_relu\n",
      "True:\tconv4_block4_3_conv\n",
      "True:\tconv4_block4_3_bn\n",
      "True:\tconv4_block4_add\n",
      "True:\tconv4_block4_out\n",
      "True:\tconv4_block5_1_conv\n",
      "True:\tconv4_block5_1_bn\n",
      "True:\tconv4_block5_1_relu\n",
      "True:\tconv4_block5_2_conv\n",
      "True:\tconv4_block5_2_bn\n",
      "True:\tconv4_block5_2_relu\n",
      "True:\tconv4_block5_3_conv\n",
      "True:\tconv4_block5_3_bn\n",
      "True:\tconv4_block5_add\n",
      "True:\tconv4_block5_out\n",
      "True:\tconv4_block6_1_conv\n",
      "True:\tconv4_block6_1_bn\n",
      "True:\tconv4_block6_1_relu\n",
      "True:\tconv4_block6_2_conv\n",
      "True:\tconv4_block6_2_bn\n",
      "True:\tconv4_block6_2_relu\n",
      "True:\tconv4_block6_3_conv\n",
      "True:\tconv4_block6_3_bn\n",
      "True:\tconv4_block6_add\n",
      "True:\tconv4_block6_out\n",
      "True:\tconv5_block1_1_conv\n",
      "True:\tconv5_block1_1_bn\n",
      "True:\tconv5_block1_1_relu\n",
      "True:\tconv5_block1_2_conv\n",
      "True:\tconv5_block1_2_bn\n",
      "True:\tconv5_block1_2_relu\n",
      "True:\tconv5_block1_0_conv\n",
      "True:\tconv5_block1_3_conv\n",
      "True:\tconv5_block1_0_bn\n",
      "True:\tconv5_block1_3_bn\n",
      "True:\tconv5_block1_add\n",
      "True:\tconv5_block1_out\n",
      "True:\tconv5_block2_1_conv\n",
      "True:\tconv5_block2_1_bn\n",
      "True:\tconv5_block2_1_relu\n",
      "True:\tconv5_block2_2_conv\n",
      "True:\tconv5_block2_2_bn\n",
      "True:\tconv5_block2_2_relu\n",
      "True:\tconv5_block2_3_conv\n",
      "True:\tconv5_block2_3_bn\n",
      "True:\tconv5_block2_add\n",
      "True:\tconv5_block2_out\n",
      "True:\tconv5_block3_1_conv\n",
      "True:\tconv5_block3_1_bn\n",
      "True:\tconv5_block3_1_relu\n",
      "True:\tconv5_block3_2_conv\n",
      "True:\tconv5_block3_2_bn\n",
      "True:\tconv5_block3_2_relu\n",
      "True:\tconv5_block3_3_conv\n",
      "True:\tconv5_block3_3_bn\n",
      "True:\tconv5_block3_add\n",
      "True:\tconv5_block3_out\n"
     ]
    }
   ],
   "source": [
    "def print_layer_trainable():\n",
    "    for layer in conv_model.layers:\n",
    "        print(\"{0}:\\t{1}\".format(layer.trainable, layer.name))\n",
    "\n",
    "\n",
    "print_layer_trainable()"
   ]
  },
  {
   "cell_type": "code",
   "execution_count": null,
   "id": "bfb3331c",
   "metadata": {},
   "outputs": [],
   "source": [
    "#for layer in conv_model.layers:\n",
    "#    layer.trainable = False\n",
    "    \n",
    "# Start a new Keras Sequential model.\n",
    "new_model = Sequential()\n",
    "\n",
    "# Add the convolutional part of the VGG16 model from above.\n",
    "new_model.add(conv_model)\n",
    "\n",
    "# Flatten the output of the VGG16 model because it is from a\n",
    "# convolutional layer.\n",
    "new_model.add(Flatten())\n",
    "\n",
    "# Add a dense (aka. fully-connected) layer.\n",
    "# This is for combining features that the VGG16 model has\n",
    "# recognized in the image.\n",
    "\n",
    "new_model.add(Dense(1024, activation='relu'))\n",
    "# new_model.add(Dropout(0.5))\n",
    "new_model.add(Dense(512, activation='relu'))\n",
    "# Add a dropout-layer which may prevent overfitting and\n",
    "# improve generalization ability to unseen data e.g. the test-set.\n",
    "#new_model.add(Dense(512, activation='relu'))\n",
    "\n",
    "\n",
    "# Add the final layer for the actual classification.\n",
    "new_model.add(Dense(3, activation='softmax'))"
   ]
  },
  {
   "cell_type": "code",
   "execution_count": null,
   "id": "5f4132c6",
   "metadata": {},
   "outputs": [],
   "source": [
    "optimizer = Adam()\n",
    "loss = 'categorical_crossentropy'\n",
    "metrics = [\"categorical_accuracy\"]\n",
    "\n",
    "\n",
    "new_model.compile(optimizer=optimizer, loss=loss, metrics=metrics)"
   ]
  },
  {
   "cell_type": "code",
   "execution_count": null,
   "id": "9045cc05",
   "metadata": {},
   "outputs": [
    {
     "name": "stdout",
     "output_type": "stream",
     "text": [
      "72.1875\n",
      "24.0625\n"
     ]
    },
    {
     "name": "stderr",
     "output_type": "stream",
     "text": [
      "C:\\Users\\ihnis\\AppData\\Local\\Temp\\ipykernel_14052\\1721425045.py:10: UserWarning: `Model.fit_generator` is deprecated and will be removed in a future version. Please use `Model.fit`, which supports generators.\n",
      "  history = new_model.fit_generator(generator=generator_train,\n"
     ]
    },
    {
     "name": "stdout",
     "output_type": "stream",
     "text": [
      "Epoch 1/30\n",
      "72/72 [==============================] - 1028s 14s/step - loss: 4.7085 - categorical_accuracy: 0.6017 - val_loss: 687.6154 - val_categorical_accuracy: 0.3805\n",
      "Epoch 2/30\n",
      " 4/72 [>.............................] - ETA: 16:54 - loss: 0.7475 - categorical_accuracy: 0.6875"
     ]
    },
    {
     "ename": "KeyboardInterrupt",
     "evalue": "",
     "output_type": "error",
     "traceback": [
      "\u001b[1;31m---------------------------------------------------------------------------\u001b[0m",
      "\u001b[1;31mKeyboardInterrupt\u001b[0m                         Traceback (most recent call last)",
      "Cell \u001b[1;32mIn[12], line 10\u001b[0m\n\u001b[0;32m      6\u001b[0m \u001b[39mprint\u001b[39m(steps_test)\n\u001b[0;32m      8\u001b[0m \u001b[39m#steps_per_epoch = 20\u001b[39;00m\n\u001b[0;32m      9\u001b[0m \u001b[39m#steps_test = 100\u001b[39;00m\n\u001b[1;32m---> 10\u001b[0m history \u001b[39m=\u001b[39m new_model\u001b[39m.\u001b[39;49mfit_generator(generator\u001b[39m=\u001b[39;49mgenerator_train,\n\u001b[0;32m     11\u001b[0m                                   epochs\u001b[39m=\u001b[39;49mepochs,\n\u001b[0;32m     12\u001b[0m                                   steps_per_epoch\u001b[39m=\u001b[39;49msteps_per_epoch,\n\u001b[0;32m     13\u001b[0m                                   validation_data\u001b[39m=\u001b[39;49mgenerator_test,\n\u001b[0;32m     14\u001b[0m                                   validation_steps\u001b[39m=\u001b[39;49msteps_test)\n",
      "File \u001b[1;32m~\\AppData\\Roaming\\Python\\Python311\\site-packages\\keras\\engine\\training.py:2636\u001b[0m, in \u001b[0;36mModel.fit_generator\u001b[1;34m(self, generator, steps_per_epoch, epochs, verbose, callbacks, validation_data, validation_steps, validation_freq, class_weight, max_queue_size, workers, use_multiprocessing, shuffle, initial_epoch)\u001b[0m\n\u001b[0;32m   2624\u001b[0m \u001b[39m\u001b[39m\u001b[39m\"\"\"Fits the model on data yielded batch-by-batch by a Python generator.\u001b[39;00m\n\u001b[0;32m   2625\u001b[0m \n\u001b[0;32m   2626\u001b[0m \u001b[39mDEPRECATED:\u001b[39;00m\n\u001b[0;32m   2627\u001b[0m \u001b[39m  `Model.fit` now supports generators, so there is no longer any need to\u001b[39;00m\n\u001b[0;32m   2628\u001b[0m \u001b[39m  use this endpoint.\u001b[39;00m\n\u001b[0;32m   2629\u001b[0m \u001b[39m\"\"\"\u001b[39;00m\n\u001b[0;32m   2630\u001b[0m warnings\u001b[39m.\u001b[39mwarn(\n\u001b[0;32m   2631\u001b[0m     \u001b[39m\"\u001b[39m\u001b[39m`Model.fit_generator` is deprecated and \u001b[39m\u001b[39m\"\u001b[39m\n\u001b[0;32m   2632\u001b[0m     \u001b[39m\"\u001b[39m\u001b[39mwill be removed in a future version. \u001b[39m\u001b[39m\"\u001b[39m\n\u001b[0;32m   2633\u001b[0m     \u001b[39m\"\u001b[39m\u001b[39mPlease use `Model.fit`, which supports generators.\u001b[39m\u001b[39m\"\u001b[39m,\n\u001b[0;32m   2634\u001b[0m     stacklevel\u001b[39m=\u001b[39m\u001b[39m2\u001b[39m,\n\u001b[0;32m   2635\u001b[0m )\n\u001b[1;32m-> 2636\u001b[0m \u001b[39mreturn\u001b[39;00m \u001b[39mself\u001b[39;49m\u001b[39m.\u001b[39;49mfit(\n\u001b[0;32m   2637\u001b[0m     generator,\n\u001b[0;32m   2638\u001b[0m     steps_per_epoch\u001b[39m=\u001b[39;49msteps_per_epoch,\n\u001b[0;32m   2639\u001b[0m     epochs\u001b[39m=\u001b[39;49mepochs,\n\u001b[0;32m   2640\u001b[0m     verbose\u001b[39m=\u001b[39;49mverbose,\n\u001b[0;32m   2641\u001b[0m     callbacks\u001b[39m=\u001b[39;49mcallbacks,\n\u001b[0;32m   2642\u001b[0m     validation_data\u001b[39m=\u001b[39;49mvalidation_data,\n\u001b[0;32m   2643\u001b[0m     validation_steps\u001b[39m=\u001b[39;49mvalidation_steps,\n\u001b[0;32m   2644\u001b[0m     validation_freq\u001b[39m=\u001b[39;49mvalidation_freq,\n\u001b[0;32m   2645\u001b[0m     class_weight\u001b[39m=\u001b[39;49mclass_weight,\n\u001b[0;32m   2646\u001b[0m     max_queue_size\u001b[39m=\u001b[39;49mmax_queue_size,\n\u001b[0;32m   2647\u001b[0m     workers\u001b[39m=\u001b[39;49mworkers,\n\u001b[0;32m   2648\u001b[0m     use_multiprocessing\u001b[39m=\u001b[39;49muse_multiprocessing,\n\u001b[0;32m   2649\u001b[0m     shuffle\u001b[39m=\u001b[39;49mshuffle,\n\u001b[0;32m   2650\u001b[0m     initial_epoch\u001b[39m=\u001b[39;49minitial_epoch,\n\u001b[0;32m   2651\u001b[0m )\n",
      "File \u001b[1;32m~\\AppData\\Roaming\\Python\\Python311\\site-packages\\keras\\utils\\traceback_utils.py:65\u001b[0m, in \u001b[0;36mfilter_traceback.<locals>.error_handler\u001b[1;34m(*args, **kwargs)\u001b[0m\n\u001b[0;32m     63\u001b[0m filtered_tb \u001b[39m=\u001b[39m \u001b[39mNone\u001b[39;00m\n\u001b[0;32m     64\u001b[0m \u001b[39mtry\u001b[39;00m:\n\u001b[1;32m---> 65\u001b[0m     \u001b[39mreturn\u001b[39;00m fn(\u001b[39m*\u001b[39;49margs, \u001b[39m*\u001b[39;49m\u001b[39m*\u001b[39;49mkwargs)\n\u001b[0;32m     66\u001b[0m \u001b[39mexcept\u001b[39;00m \u001b[39mException\u001b[39;00m \u001b[39mas\u001b[39;00m e:\n\u001b[0;32m     67\u001b[0m     filtered_tb \u001b[39m=\u001b[39m _process_traceback_frames(e\u001b[39m.\u001b[39m__traceback__)\n",
      "File \u001b[1;32m~\\AppData\\Roaming\\Python\\Python311\\site-packages\\keras\\engine\\training.py:1685\u001b[0m, in \u001b[0;36mModel.fit\u001b[1;34m(self, x, y, batch_size, epochs, verbose, callbacks, validation_split, validation_data, shuffle, class_weight, sample_weight, initial_epoch, steps_per_epoch, validation_steps, validation_batch_size, validation_freq, max_queue_size, workers, use_multiprocessing)\u001b[0m\n\u001b[0;32m   1677\u001b[0m \u001b[39mwith\u001b[39;00m tf\u001b[39m.\u001b[39mprofiler\u001b[39m.\u001b[39mexperimental\u001b[39m.\u001b[39mTrace(\n\u001b[0;32m   1678\u001b[0m     \u001b[39m\"\u001b[39m\u001b[39mtrain\u001b[39m\u001b[39m\"\u001b[39m,\n\u001b[0;32m   1679\u001b[0m     epoch_num\u001b[39m=\u001b[39mepoch,\n\u001b[1;32m   (...)\u001b[0m\n\u001b[0;32m   1682\u001b[0m     _r\u001b[39m=\u001b[39m\u001b[39m1\u001b[39m,\n\u001b[0;32m   1683\u001b[0m ):\n\u001b[0;32m   1684\u001b[0m     callbacks\u001b[39m.\u001b[39mon_train_batch_begin(step)\n\u001b[1;32m-> 1685\u001b[0m     tmp_logs \u001b[39m=\u001b[39m \u001b[39mself\u001b[39;49m\u001b[39m.\u001b[39;49mtrain_function(iterator)\n\u001b[0;32m   1686\u001b[0m     \u001b[39mif\u001b[39;00m data_handler\u001b[39m.\u001b[39mshould_sync:\n\u001b[0;32m   1687\u001b[0m         context\u001b[39m.\u001b[39masync_wait()\n",
      "File \u001b[1;32m~\\AppData\\Roaming\\Python\\Python311\\site-packages\\tensorflow\\python\\util\\traceback_utils.py:150\u001b[0m, in \u001b[0;36mfilter_traceback.<locals>.error_handler\u001b[1;34m(*args, **kwargs)\u001b[0m\n\u001b[0;32m    148\u001b[0m filtered_tb \u001b[39m=\u001b[39m \u001b[39mNone\u001b[39;00m\n\u001b[0;32m    149\u001b[0m \u001b[39mtry\u001b[39;00m:\n\u001b[1;32m--> 150\u001b[0m   \u001b[39mreturn\u001b[39;00m fn(\u001b[39m*\u001b[39;49margs, \u001b[39m*\u001b[39;49m\u001b[39m*\u001b[39;49mkwargs)\n\u001b[0;32m    151\u001b[0m \u001b[39mexcept\u001b[39;00m \u001b[39mException\u001b[39;00m \u001b[39mas\u001b[39;00m e:\n\u001b[0;32m    152\u001b[0m   filtered_tb \u001b[39m=\u001b[39m _process_traceback_frames(e\u001b[39m.\u001b[39m__traceback__)\n",
      "File \u001b[1;32m~\\AppData\\Roaming\\Python\\Python311\\site-packages\\tensorflow\\python\\eager\\polymorphic_function\\polymorphic_function.py:894\u001b[0m, in \u001b[0;36mFunction.__call__\u001b[1;34m(self, *args, **kwds)\u001b[0m\n\u001b[0;32m    891\u001b[0m compiler \u001b[39m=\u001b[39m \u001b[39m\"\u001b[39m\u001b[39mxla\u001b[39m\u001b[39m\"\u001b[39m \u001b[39mif\u001b[39;00m \u001b[39mself\u001b[39m\u001b[39m.\u001b[39m_jit_compile \u001b[39melse\u001b[39;00m \u001b[39m\"\u001b[39m\u001b[39mnonXla\u001b[39m\u001b[39m\"\u001b[39m\n\u001b[0;32m    893\u001b[0m \u001b[39mwith\u001b[39;00m OptionalXlaContext(\u001b[39mself\u001b[39m\u001b[39m.\u001b[39m_jit_compile):\n\u001b[1;32m--> 894\u001b[0m   result \u001b[39m=\u001b[39m \u001b[39mself\u001b[39;49m\u001b[39m.\u001b[39;49m_call(\u001b[39m*\u001b[39;49margs, \u001b[39m*\u001b[39;49m\u001b[39m*\u001b[39;49mkwds)\n\u001b[0;32m    896\u001b[0m new_tracing_count \u001b[39m=\u001b[39m \u001b[39mself\u001b[39m\u001b[39m.\u001b[39mexperimental_get_tracing_count()\n\u001b[0;32m    897\u001b[0m without_tracing \u001b[39m=\u001b[39m (tracing_count \u001b[39m==\u001b[39m new_tracing_count)\n",
      "File \u001b[1;32m~\\AppData\\Roaming\\Python\\Python311\\site-packages\\tensorflow\\python\\eager\\polymorphic_function\\polymorphic_function.py:926\u001b[0m, in \u001b[0;36mFunction._call\u001b[1;34m(self, *args, **kwds)\u001b[0m\n\u001b[0;32m    923\u001b[0m   \u001b[39mself\u001b[39m\u001b[39m.\u001b[39m_lock\u001b[39m.\u001b[39mrelease()\n\u001b[0;32m    924\u001b[0m   \u001b[39m# In this case we have created variables on the first call, so we run the\u001b[39;00m\n\u001b[0;32m    925\u001b[0m   \u001b[39m# defunned version which is guaranteed to never create variables.\u001b[39;00m\n\u001b[1;32m--> 926\u001b[0m   \u001b[39mreturn\u001b[39;00m \u001b[39mself\u001b[39;49m\u001b[39m.\u001b[39;49m_no_variable_creation_fn(\u001b[39m*\u001b[39;49margs, \u001b[39m*\u001b[39;49m\u001b[39m*\u001b[39;49mkwds)  \u001b[39m# pylint: disable=not-callable\u001b[39;00m\n\u001b[0;32m    927\u001b[0m \u001b[39melif\u001b[39;00m \u001b[39mself\u001b[39m\u001b[39m.\u001b[39m_variable_creation_fn \u001b[39mis\u001b[39;00m \u001b[39mnot\u001b[39;00m \u001b[39mNone\u001b[39;00m:\n\u001b[0;32m    928\u001b[0m   \u001b[39m# Release the lock early so that multiple threads can perform the call\u001b[39;00m\n\u001b[0;32m    929\u001b[0m   \u001b[39m# in parallel.\u001b[39;00m\n\u001b[0;32m    930\u001b[0m   \u001b[39mself\u001b[39m\u001b[39m.\u001b[39m_lock\u001b[39m.\u001b[39mrelease()\n",
      "File \u001b[1;32m~\\AppData\\Roaming\\Python\\Python311\\site-packages\\tensorflow\\python\\eager\\polymorphic_function\\tracing_compiler.py:143\u001b[0m, in \u001b[0;36mTracingCompiler.__call__\u001b[1;34m(self, *args, **kwargs)\u001b[0m\n\u001b[0;32m    140\u001b[0m \u001b[39mwith\u001b[39;00m \u001b[39mself\u001b[39m\u001b[39m.\u001b[39m_lock:\n\u001b[0;32m    141\u001b[0m   (concrete_function,\n\u001b[0;32m    142\u001b[0m    filtered_flat_args) \u001b[39m=\u001b[39m \u001b[39mself\u001b[39m\u001b[39m.\u001b[39m_maybe_define_function(args, kwargs)\n\u001b[1;32m--> 143\u001b[0m \u001b[39mreturn\u001b[39;00m concrete_function\u001b[39m.\u001b[39;49m_call_flat(\n\u001b[0;32m    144\u001b[0m     filtered_flat_args, captured_inputs\u001b[39m=\u001b[39;49mconcrete_function\u001b[39m.\u001b[39;49mcaptured_inputs)\n",
      "File \u001b[1;32m~\\AppData\\Roaming\\Python\\Python311\\site-packages\\tensorflow\\python\\eager\\polymorphic_function\\monomorphic_function.py:1757\u001b[0m, in \u001b[0;36mConcreteFunction._call_flat\u001b[1;34m(self, args, captured_inputs, cancellation_manager)\u001b[0m\n\u001b[0;32m   1753\u001b[0m possible_gradient_type \u001b[39m=\u001b[39m gradients_util\u001b[39m.\u001b[39mPossibleTapeGradientTypes(args)\n\u001b[0;32m   1754\u001b[0m \u001b[39mif\u001b[39;00m (possible_gradient_type \u001b[39m==\u001b[39m gradients_util\u001b[39m.\u001b[39mPOSSIBLE_GRADIENT_TYPES_NONE\n\u001b[0;32m   1755\u001b[0m     \u001b[39mand\u001b[39;00m executing_eagerly):\n\u001b[0;32m   1756\u001b[0m   \u001b[39m# No tape is watching; skip to running the function.\u001b[39;00m\n\u001b[1;32m-> 1757\u001b[0m   \u001b[39mreturn\u001b[39;00m \u001b[39mself\u001b[39m\u001b[39m.\u001b[39m_build_call_outputs(\u001b[39mself\u001b[39;49m\u001b[39m.\u001b[39;49m_inference_function\u001b[39m.\u001b[39;49mcall(\n\u001b[0;32m   1758\u001b[0m       ctx, args, cancellation_manager\u001b[39m=\u001b[39;49mcancellation_manager))\n\u001b[0;32m   1759\u001b[0m forward_backward \u001b[39m=\u001b[39m \u001b[39mself\u001b[39m\u001b[39m.\u001b[39m_select_forward_and_backward_functions(\n\u001b[0;32m   1760\u001b[0m     args,\n\u001b[0;32m   1761\u001b[0m     possible_gradient_type,\n\u001b[0;32m   1762\u001b[0m     executing_eagerly)\n\u001b[0;32m   1763\u001b[0m forward_function, args_with_tangents \u001b[39m=\u001b[39m forward_backward\u001b[39m.\u001b[39mforward()\n",
      "File \u001b[1;32m~\\AppData\\Roaming\\Python\\Python311\\site-packages\\tensorflow\\python\\eager\\polymorphic_function\\monomorphic_function.py:381\u001b[0m, in \u001b[0;36m_EagerDefinedFunction.call\u001b[1;34m(self, ctx, args, cancellation_manager)\u001b[0m\n\u001b[0;32m    379\u001b[0m \u001b[39mwith\u001b[39;00m _InterpolateFunctionError(\u001b[39mself\u001b[39m):\n\u001b[0;32m    380\u001b[0m   \u001b[39mif\u001b[39;00m cancellation_manager \u001b[39mis\u001b[39;00m \u001b[39mNone\u001b[39;00m:\n\u001b[1;32m--> 381\u001b[0m     outputs \u001b[39m=\u001b[39m execute\u001b[39m.\u001b[39;49mexecute(\n\u001b[0;32m    382\u001b[0m         \u001b[39mstr\u001b[39;49m(\u001b[39mself\u001b[39;49m\u001b[39m.\u001b[39;49msignature\u001b[39m.\u001b[39;49mname),\n\u001b[0;32m    383\u001b[0m         num_outputs\u001b[39m=\u001b[39;49m\u001b[39mself\u001b[39;49m\u001b[39m.\u001b[39;49m_num_outputs,\n\u001b[0;32m    384\u001b[0m         inputs\u001b[39m=\u001b[39;49margs,\n\u001b[0;32m    385\u001b[0m         attrs\u001b[39m=\u001b[39;49mattrs,\n\u001b[0;32m    386\u001b[0m         ctx\u001b[39m=\u001b[39;49mctx)\n\u001b[0;32m    387\u001b[0m   \u001b[39melse\u001b[39;00m:\n\u001b[0;32m    388\u001b[0m     outputs \u001b[39m=\u001b[39m execute\u001b[39m.\u001b[39mexecute_with_cancellation(\n\u001b[0;32m    389\u001b[0m         \u001b[39mstr\u001b[39m(\u001b[39mself\u001b[39m\u001b[39m.\u001b[39msignature\u001b[39m.\u001b[39mname),\n\u001b[0;32m    390\u001b[0m         num_outputs\u001b[39m=\u001b[39m\u001b[39mself\u001b[39m\u001b[39m.\u001b[39m_num_outputs,\n\u001b[1;32m   (...)\u001b[0m\n\u001b[0;32m    393\u001b[0m         ctx\u001b[39m=\u001b[39mctx,\n\u001b[0;32m    394\u001b[0m         cancellation_manager\u001b[39m=\u001b[39mcancellation_manager)\n",
      "File \u001b[1;32m~\\AppData\\Roaming\\Python\\Python311\\site-packages\\tensorflow\\python\\eager\\execute.py:52\u001b[0m, in \u001b[0;36mquick_execute\u001b[1;34m(op_name, num_outputs, inputs, attrs, ctx, name)\u001b[0m\n\u001b[0;32m     50\u001b[0m \u001b[39mtry\u001b[39;00m:\n\u001b[0;32m     51\u001b[0m   ctx\u001b[39m.\u001b[39mensure_initialized()\n\u001b[1;32m---> 52\u001b[0m   tensors \u001b[39m=\u001b[39m pywrap_tfe\u001b[39m.\u001b[39;49mTFE_Py_Execute(ctx\u001b[39m.\u001b[39;49m_handle, device_name, op_name,\n\u001b[0;32m     53\u001b[0m                                       inputs, attrs, num_outputs)\n\u001b[0;32m     54\u001b[0m \u001b[39mexcept\u001b[39;00m core\u001b[39m.\u001b[39m_NotOkStatusException \u001b[39mas\u001b[39;00m e:\n\u001b[0;32m     55\u001b[0m   \u001b[39mif\u001b[39;00m name \u001b[39mis\u001b[39;00m \u001b[39mnot\u001b[39;00m \u001b[39mNone\u001b[39;00m:\n",
      "\u001b[1;31mKeyboardInterrupt\u001b[0m: "
     ]
    }
   ],
   "source": [
    "epochs = 80\n",
    "\n",
    "steps_per_epoch = generator_train.n / batch_size\n",
    "steps_test = generator_test.n / batch_size\n",
    "print(steps_per_epoch)\n",
    "print(steps_test)\n",
    "\n",
    "#steps_per_epoch = 20\n",
    "#steps_test = 100\n",
    "history = new_model.fit_generator(generator=generator_train,\n",
    "                                  epochs=epochs,\n",
    "                                  steps_per_epoch=steps_per_epoch,\n",
    "                                  validation_data=generator_test,\n",
    "                                  validation_steps=steps_test)"
   ]
  },
  {
   "cell_type": "code",
   "execution_count": null,
   "id": "3abf84fd",
   "metadata": {},
   "outputs": [],
   "source": [
    "new_model.save('D:/School/Sadia/Final V2/Xception.h5')"
   ]
  },
  {
   "cell_type": "code",
   "execution_count": null,
   "id": "ea70d349",
   "metadata": {},
   "outputs": [
    {
     "name": "stderr",
     "output_type": "stream",
     "text": [
      "C:\\Users\\User\\AppData\\Local\\Temp\\ipykernel_17548\\723365409.py:1: UserWarning: `Model.predict_generator` is deprecated and will be removed in a future version. Please use `Model.predict`, which supports generators.\n",
      "  y_pred = new_model.predict_generator(generator_test,steps = steps_test)\n"
     ]
    }
   ],
   "source": [
    "y_pred = new_model.predict_generator(generator_test,steps = steps_test)"
   ]
  },
  {
   "cell_type": "code",
   "execution_count": null,
   "id": "ec06136e",
   "metadata": {},
   "outputs": [
    {
     "name": "stdout",
     "output_type": "stream",
     "text": [
      "[2 2 2 1 2 2 1 0 2 2 2 0 0 2 2 2 0 2 2 0 2 2 2 2 2 2 2 0 0 2 2 1 1 2 2 2 2\n",
      " 2 2 2 2 2 2 0 2 2 0 1 2 2 2 2 2 0 2 2 1 2 2 2 2 1 2 2 2 2 2 0 2 2 2 2 1 1\n",
      " 2 2 2 0 2 2 2 2 2 0 2 2 2 2 2 0 2 2 2 2 1 2 2 2 2 2 2 1 2 0 2 1 2 2 2 0 2\n",
      " 1 2 0 2 0 2 2 2 2 2 2 2 2 2 2 2 2 2 2 2 1 1 2 2 2 2 2 2 2 2 2 2 2 2 2 0 1\n",
      " 2 2 2 2 2 2 1 2 1 2 2 0 2 2 2 2 2 1 2 2 1 2 2 2 2 2 2 2 2 2 2 2 1 2 2 2 2\n",
      " 2 2 1 2 2 2 0 2 0 0 2 0 2 2 2 2 2 2 2 2 2 2 2 2 2 2 2 2 2 2 2 2 2 2 2 2 2\n",
      " 2 2 2 2 2 2 2 2 2 2 0 2 2 0 2 2 2 2 2 2 2 2 1 2 2 2 2 0 2 2 1 2 2 2 2 2 2\n",
      " 2 2 2 2 1 2 2 2 2 2 0 2 2 2 2 2 2 2 0 2 2 2 2 1 2 2 2 2 2 2 0 1 2 0 2 2 2\n",
      " 2 2 2 2 2 1 2 2 2 2 2 1 2 1 2 1 2 2 2 1 2 2 1 1 2 0 2 2 2 2 2 2 1 2 2 2 2\n",
      " 2 2 2 2 2 2 2 2 1 2 1 2 0 2 2 2 2 2 2 2 2 2 2 2 2 2 2 2 2 2 2 2 2 1 2 2 2\n",
      " 2 2 2 2 2 2 2 2 2 2 2 2 2 2 2 2 2 2 2 2 2 2 2 2 2 1 2 2 2 1 2 2 2 2 2 2 2\n",
      " 2 1 2 2 2 2 2 2 2 0 0 2 2 2 2 2 2 2 2 2 2 0 1 2 2 2 2 2 2 2 2 2 2 2 2 2 2\n",
      " 2 2 2 2 2 2 2 2 2 0 2 2 2 2 2 1 2 2 2 2 2 2 2 2 2 2 2 2 2 2 1 2 2 0 1 0 2\n",
      " 2 2 2 0 2 2 1 0 2 1 2 0 1 2 2 2 2 2 2 2 0 2 2 2 2 2 2 1 2 1 0 1 2 2 2 2 2\n",
      " 2 0 2 2 2 2 2 0 2 0 1 2 2 2 2 2 2 2 2 1 0 0 2 2 2 2 2 2 2 0 2 2 0 2 2 2 2\n",
      " 2 2 2 0 2 2 2 1 1 2 2 2 2 2 0 2 0 1 2 1 2 2 2 2 1 2 1 2 2 2 2 2 2 1 2 2 0\n",
      " 2 2 2 2 2 2 2 1 1 2 2 2 0 2 0 2 0 0 2 2 2 1 2 1 0 2 1 2 2 1 0 2 2 2 0 0 1\n",
      " 2 2 2 2 0 2 2 2 2 1 2 2 1 2 0 2 1 2 2 0 2 2 1 1 1 1 2 0 2 0 2 2 2 2 0 0 2\n",
      " 1 0 2 1 0 2 2 2 2 2 1 1 2 2 0 2 0 1 2 2 2 2 2 1 2 2 2 0 2 2 2 2 2 0 0 1 0\n",
      " 2 2 0 2 1 0 2 0 0 0 2 2 2 1 1 2 2 0 2 2 2 2 1 0 2 2 2 2 2 2 0 2 2 2 2 2 2\n",
      " 2 2 2 2 0 2 2 0 2 2 2 2 2 2 2 2 0 2 2 2 1 2 2 2 2 2 2 2 0 0]\n"
     ]
    }
   ],
   "source": [
    "predicted_class_indices=np.argmax(y_pred,axis=1)\n",
    "print(predicted_class_indices)"
   ]
  },
  {
   "cell_type": "code",
   "execution_count": null,
   "id": "140f0f88",
   "metadata": {},
   "outputs": [],
   "source": [
    "true_labels = generator_test.classes"
   ]
  },
  {
   "cell_type": "code",
   "execution_count": null,
   "id": "6d3d8fb3",
   "metadata": {},
   "outputs": [
    {
     "data": {
      "text/plain": [
       "(770, 3)"
      ]
     },
     "execution_count": 35,
     "metadata": {},
     "output_type": "execute_result"
    }
   ],
   "source": [
    "y_pred.shape"
   ]
  },
  {
   "cell_type": "code",
   "execution_count": null,
   "id": "730feb3a",
   "metadata": {},
   "outputs": [
    {
     "name": "stdout",
     "output_type": "stream",
     "text": [
      "              precision    recall  f1-score   support\n",
      "\n",
      "           0       0.26      0.12      0.17       198\n",
      "           1       0.26      0.08      0.12       279\n",
      "           2       0.33      0.67      0.44       293\n",
      "\n",
      "    accuracy                           0.32       770\n",
      "   macro avg       0.28      0.29      0.24       770\n",
      "weighted avg       0.29      0.32      0.26       770\n",
      "\n"
     ]
    }
   ],
   "source": [
    "from sklearn.metrics import classification_report\n",
    "print(classification_report(true_labels, predicted_class_indices))"
   ]
  },
  {
   "cell_type": "code",
   "execution_count": null,
   "id": "1172ab02",
   "metadata": {},
   "outputs": [
    {
     "data": {
      "text/plain": [
       "{'chickenpox+measles': 0, 'monkeypox': 1, 'normal': 2}"
      ]
     },
     "execution_count": 37,
     "metadata": {},
     "output_type": "execute_result"
    }
   ],
   "source": [
    "generator_test.class_indices"
   ]
  },
  {
   "cell_type": "code",
   "execution_count": null,
   "id": "00012a62",
   "metadata": {},
   "outputs": [],
   "source": [
    "from sklearn.metrics import confusion_matrix\n",
    "array = confusion_matrix(true_labels, predicted_class_indices)"
   ]
  },
  {
   "cell_type": "code",
   "execution_count": null,
   "id": "dce31638",
   "metadata": {},
   "outputs": [
    {
     "data": {
      "text/plain": [
       "<Axes: >"
      ]
     },
     "execution_count": 39,
     "metadata": {},
     "output_type": "execute_result"
    },
    {
     "data": {
      "image/png": "[encoded data removed]",
      "text/plain": [
       "<Figure size 1000x900 with 2 Axes>"
      ]
     },
     "metadata": {},
     "output_type": "display_data"
    }
   ],
   "source": [
    "import seaborn as sn\n",
    "import pandas as pd\n",
    "import matplotlib.pyplot as plt\n",
    "df_cm = pd.DataFrame(array, index = [\"chickenpox+measles\", \"monkeypox\", \"normal\"],\n",
    "                  columns = [\"chickenpox+measles\", \"monkeypox\", \"normal\"])\n",
    "plt.figure(figsize = (10,9))\n",
    "sn.heatmap(df_cm, annot=True, cmap='Blues', fmt='g')"
   ]
  },
  {
   "cell_type": "code",
   "execution_count": null,
   "id": "34ada34f",
   "metadata": {},
   "outputs": [
    {
     "name": "stdout",
     "output_type": "stream",
     "text": [
      "{'loss': [2.803072690963745, 1.0610477924346924, 1.0030038356781006, 0.8769139051437378, 0.804948627948761, 0.7454453706741333, 0.7833592295646667, 0.7945190668106079, 0.6916256546974182, 0.6535321474075317, 0.633043646812439, 0.5896888375282288, 0.5659079551696777, 0.6146834492683411, 0.6315246224403381, 0.5578001737594604, 0.5771675109863281, 0.5740858912467957, 0.5472690463066101, 0.5856847167015076, 0.6165489554405212, 0.6168842315673828, 0.733402669429779, 0.676825761795044, 0.6586151719093323, 0.5335731506347656, 0.5084766149520874, 0.47168707847595215, 0.44911473989486694, 0.4607047736644745], 'categorical_accuracy': [0.4047619104385376, 0.5259740352630615, 0.5857142806053162, 0.6246753334999084, 0.6688311696052551, 0.6722943782806396, 0.6714285612106323, 0.6584415435791016, 0.6753246784210205, 0.6835497617721558, 0.7021645307540894, 0.695671021938324, 0.7090908885002136, 0.6974025964736938, 0.6904761791229248, 0.7077922224998474, 0.7073593139648438, 0.7030302882194519, 0.7103896141052246, 0.6969696879386902, 0.6896103620529175, 0.7077922224998474, 0.6961038708686829, 0.6978355050086975, 0.7060605883598328, 0.7683982849121094, 0.7705627679824829, 0.8108224868774414, 0.8264069557189941, 0.8116883039474487], 'val_loss': [10446982.0, 57.730899810791016, 28.73150634765625, 1.6243479251861572, 37.12625503540039, 0.9146051406860352, 6.4655351638793945, 12.003057479858398, 0.672355055809021, 0.5547284483909607, 0.6658931374549866, 0.9770671725273132, 0.6771978735923767, 0.6993504762649536, 0.6871271133422852, 0.9960371255874634, 21.892576217651367, 0.7594963312149048, 0.5244291424751282, 15.790534019470215, 1.8510360717773438, 9.356415748596191, 9036.138671875, 0.7972993850708008, 28.350446701049805, 0.44333982467651367, 10.566001892089844, 0.44327884912490845, 0.6798962950706482, 40.480628967285156], 'val_categorical_accuracy': [0.38051947951316833, 0.5701298713684082, 0.5584415793418884, 0.6129870414733887, 0.5181818008422852, 0.6766234040260315, 0.5883116722106934, 0.5701298713684082, 0.6831169128417969, 0.7142857313156128, 0.5701298713684082, 0.6415584683418274, 0.7077922224998474, 0.6727272868156433, 0.6753246784210205, 0.6051948070526123, 0.6129870414733887, 0.6597402691841125, 0.7181817889213562, 0.48571428656578064, 0.36883115768432617, 0.6818181872367859, 0.358441561460495, 0.6558441519737244, 0.5246753096580505, 0.7857142686843872, 0.6922078132629395, 0.8207792043685913, 0.7207792401313782, 0.3155844211578369]}\n",
      "[0.4047619104385376, 0.5259740352630615, 0.5857142806053162, 0.6246753334999084, 0.6688311696052551, 0.6722943782806396, 0.6714285612106323, 0.6584415435791016, 0.6753246784210205, 0.6835497617721558, 0.7021645307540894, 0.695671021938324, 0.7090908885002136, 0.6974025964736938, 0.6904761791229248, 0.7077922224998474, 0.7073593139648438, 0.7030302882194519, 0.7103896141052246, 0.6969696879386902, 0.6896103620529175, 0.7077922224998474, 0.6961038708686829, 0.6978355050086975, 0.7060605883598328, 0.7683982849121094, 0.7705627679824829, 0.8108224868774414, 0.8264069557189941, 0.8116883039474487]\n",
      "[0.38051947951316833, 0.5701298713684082, 0.5584415793418884, 0.6129870414733887, 0.5181818008422852, 0.6766234040260315, 0.5883116722106934, 0.5701298713684082, 0.6831169128417969, 0.7142857313156128, 0.5701298713684082, 0.6415584683418274, 0.7077922224998474, 0.6727272868156433, 0.6753246784210205, 0.6051948070526123, 0.6129870414733887, 0.6597402691841125, 0.7181817889213562, 0.48571428656578064, 0.36883115768432617, 0.6818181872367859, 0.358441561460495, 0.6558441519737244, 0.5246753096580505, 0.7857142686843872, 0.6922078132629395, 0.8207792043685913, 0.7207792401313782, 0.3155844211578369]\n"
     ]
    },
    {
     "data": {
      "image/png": "[encoded data removed]",
      "text/plain": [
       "<Figure size 640x480 with 1 Axes>"
      ]
     },
     "metadata": {},
     "output_type": "display_data"
    }
   ],
   "source": [
    "import matplotlib.pyplot as plt\n",
    "print(history.history)\n",
    "print(history.history['categorical_accuracy'])\n",
    "print(history.history['val_categorical_accuracy'])\n",
    "plt.plot(history.history['categorical_accuracy'])\n",
    "plt.plot(history.history['val_categorical_accuracy'])\n",
    "# plt.plot([0.9730,0.9416,0.9319,0.9611,0.9632,0.9739,0.9769,0.9781,0.9798,0.9816])\n",
    "# plt.plot([0.9250,0.9610,0.9730,0.9760,0.9690,0.9670,0.9620,0.9680,0.9650,0.9620])\n",
    "plt.title('model accuracy')\n",
    "plt.ylabel('accuracy')\n",
    "plt.xlabel('epoch')\n",
    "plt.legend(['train', 'val'], loc='upper left')\n",
    "plt.show()"
   ]
  },
  {
   "cell_type": "code",
   "execution_count": null,
   "id": "f717b143",
   "metadata": {},
   "outputs": [
    {
     "name": "stdout",
     "output_type": "stream",
     "text": [
      "[2.803072690963745, 1.0610477924346924, 1.0030038356781006, 0.8769139051437378, 0.804948627948761, 0.7454453706741333, 0.7833592295646667, 0.7945190668106079, 0.6916256546974182, 0.6535321474075317, 0.633043646812439, 0.5896888375282288, 0.5659079551696777, 0.6146834492683411, 0.6315246224403381, 0.5578001737594604, 0.5771675109863281, 0.5740858912467957, 0.5472690463066101, 0.5856847167015076, 0.6165489554405212, 0.6168842315673828, 0.733402669429779, 0.676825761795044, 0.6586151719093323, 0.5335731506347656, 0.5084766149520874, 0.47168707847595215, 0.44911473989486694, 0.4607047736644745]\n",
      "[10446982.0, 57.730899810791016, 28.73150634765625, 1.6243479251861572, 37.12625503540039, 0.9146051406860352, 6.4655351638793945, 12.003057479858398, 0.672355055809021, 0.5547284483909607, 0.6658931374549866, 0.9770671725273132, 0.6771978735923767, 0.6993504762649536, 0.6871271133422852, 0.9960371255874634, 21.892576217651367, 0.7594963312149048, 0.5244291424751282, 15.790534019470215, 1.8510360717773438, 9.356415748596191, 9036.138671875, 0.7972993850708008, 28.350446701049805, 0.44333982467651367, 10.566001892089844, 0.44327884912490845, 0.6798962950706482, 40.480628967285156]\n"
     ]
    },
    {
     "data": {
      "image/png": "[encoded data removed]",
      "text/plain": [
       "<Figure size 640x480 with 1 Axes>"
      ]
     },
     "metadata": {},
     "output_type": "display_data"
    }
   ],
   "source": [
    "print(history.history['loss'])\n",
    "print(history.history['val_loss'])\n",
    "plt.plot(history.history['loss'])\n",
    "plt.plot(history.history['val_loss'])\n",
    "# plt.plot([0.3015,0.1494,0.1164,0.0994,0.0858,0.0766,0.0689,0.0649,0.0588,0.0526])\n",
    "# plt.plot([0.2164,0.1063,0.0831,0.0733,0.0940,0.1094,0.1479,0.1522,0.1211,0.1249])\n",
    "plt.title('model loss')\n",
    "plt.ylabel('loss')\n",
    "plt.xlabel('epoch')\n",
    "plt.legend(['train','val'], loc='upper left')\n",
    "plt.show()"
   ]
  },
  {
   "cell_type": "code",
   "execution_count": null,
   "id": "6ed0cf83",
   "metadata": {},
   "outputs": [],
   "source": []
  }
 ],
 "metadata": {
  "kernelspec": {
   "display_name": "Python 3 (ipykernel)",
   "language": "python",
   "name": "python3"
  },
  "language_info": {
   "codemirror_mode": {
    "name": "ipython",
    "version": 3
   },
   "file_extension": ".py",
   "mimetype": "text/x-python",
   "name": "python",
   "nbconvert_exporter": "python",
   "pygments_lexer": "ipython3",
   "version": "3.11.2"
  }
 },
 "nbformat": 4,
 "nbformat_minor": 5
}
